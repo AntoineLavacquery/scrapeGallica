{
 "cells": [
  {
   "cell_type": "code",
   "execution_count": 1,
   "id": "d8999f57",
   "metadata": {},
   "outputs": [],
   "source": [
    "# from selenium import webdriver\n",
    "# from selenium.webdriver.common.keys import Keys\n",
    "# from selenium.webdriver.common.by import By\n",
    "# from selenium.webdriver.support.ui import WebDriverWait\n",
    "# #from selenium.webdriver.support import expected_conditions\n",
    "# from selenium.common.exceptions import NoSuchElementException\n",
    "# from selenium.webdriver.common.action_chains import ActionChains\n",
    "# # from scraper_fonctions import defilement, recolte_resultats, click_volet_telechargement, verif_bouton_txt, recolte_metadonnees, recolte_metadonnees_générique, recolte_texte\n",
    "from sklearn.feature_extraction.text import TfidfVectorizer\n",
    "\n",
    "#import time\n",
    "#import webbrowser\n",
    "import pandas as pd\n",
    "#import requests\n",
    "#import csv\n",
    "import re\n",
    "# import matplotlib.pyplot as plt\n",
    "# import seaborn as sns\n",
    "\n",
    "df = pd.read_csv(\"data/test.csv\")"
   ]
  },
  {
   "cell_type": "code",
   "execution_count": 2,
   "id": "4d6015d9",
   "metadata": {},
   "outputs": [],
   "source": [
    "def suppr_espace(text):\n",
    "        # \\s = any whitespace | + = one or more\n",
    "        regex = re.compile(r\"\\s+\")\n",
    "        regex\n",
    "        text = re.sub(regex, \"\", str(text))\n",
    "        text\n",
    "        return text\n"
   ]
  },
  {
   "cell_type": "code",
   "execution_count": 3,
   "id": "5ddfc371",
   "metadata": {},
   "outputs": [],
   "source": [
    "def recup_nom_auteur(text):\n",
    "    try:\n",
    "        regex = re.compile(r\",\")\n",
    "        index_auteur = re.search(regex, text)\n",
    "        \n",
    "        return text[:index_auteur.end()-1]\n",
    "    except AttributeError:\n",
    "        return text"
   ]
  },
  {
   "cell_type": "code",
   "execution_count": 4,
   "id": "a4f38d09",
   "metadata": {},
   "outputs": [],
   "source": [
    "# Filtre pour effacer l'entête\n",
    "\n",
    "def efface_entete(text):\n",
    "    try:\n",
    "        regex = re.compile(r\"Le taux de reconnaissance estimé pour ce document est de [0-9]{2,}%.\")\n",
    "        fin_entete = re.search(regex, str(text)).end()\n",
    "    except AttributeError:\n",
    "        # Normalement, doit récupérer le document Livre/Manuscrit/Gallica sans en-tête OCR avec % réussite\n",
    "        return text\n",
    "    \n",
    "    regex = re.compile(r\"En savoir plus sur l\\'OCR\")\n",
    "    text = re.sub(regex, \"\", text)\n",
    "    \n",
    "    return text[fin_entete:]"
   ]
  },
  {
   "cell_type": "code",
   "execution_count": 5,
   "id": "bbf9081d",
   "metadata": {},
   "outputs": [],
   "source": [
    "def retire_saut_ligne(text):\n",
    "    regex = re.compile(r\"\\n\")\n",
    "    text = re.sub(regex, \" \", str(text))\n",
    "    \n",
    "    return text"
   ]
  },
  {
   "cell_type": "code",
   "execution_count": 6,
   "id": "6a84a873",
   "metadata": {},
   "outputs": [],
   "source": [
    "# # Applique la fonction suppr_espace à toute la colonne\n",
    "\n",
    "# df[\"date\"] = df[\"date\"].apply(suppr_espace)\n",
    "\n",
    "\n",
    "# # Compte le nombre d'occurrence de chaque date unique\n",
    "# liste_dates = df[df[\"date\"].str.contains(r\"^[0-9]{4}\", regex=True)][\"date\"].value_counts()\n",
    "\n",
    "\n",
    "# pd.DataFrame(liste_dates)\n",
    "\n",
    "# # On récupère uniquement les dates uniques qui ont plus de 3 occurrences\n",
    "# liste_dates_filt = liste_dates[liste_dates.sort_index() > 3]\n",
    "# print(liste_dates.sort_index() > 3)\n",
    "\n",
    "# plt.figure(figsize=(20, 30))\n",
    "\n",
    "# # On trie les résultats par ordre chronologique (donc via la fonction .sort_index())\n",
    "# sns.barplot(x=liste_dates.sort_index().values, y=liste_dates.sort_index().index)"
   ]
  },
  {
   "cell_type": "code",
   "execution_count": 7,
   "id": "012029f9",
   "metadata": {},
   "outputs": [],
   "source": [
    "df[\"texte\"] = df[\"texte\"].apply(efface_entete).apply(retire_saut_ligne)\n",
    "\n",
    "# df[\"auteur\"].apply(recup_nom_auteur).apply(suppr_espace)\n",
    "\n",
    "df[\"auteur\"] = df[\"auteur\"].apply(recup_nom_auteur).apply(suppr_espace)\n",
    "\n",
    "df[\"sujet\"] = df[\"sujet\"].apply(suppr_espace)\n",
    "\n",
    "# print(df[\"texte\"])\n",
    "# print(retire_saut_ligne(efface_entete(df[\"texte\"])))"
   ]
  },
  {
   "cell_type": "code",
   "execution_count": 8,
   "id": "a6cc9bcb",
   "metadata": {},
   "outputs": [],
   "source": [
    "# Analyse TF-IDF\n",
    "\n",
    "vectorizer = TfidfVectorizer(max_df=.65, min_df=1, stop_words=None, use_idf=True, norm=None)\n",
    "transformed_documents = vectorizer.fit_transform(df[\"texte\"].tolist())\n",
    "\n",
    "transformed_documents_as_array = transformed_documents.toarray()\n",
    "\n",
    "transformed_documents_as_array[0]\n",
    "\n",
    "for counter, doc in enumerate(transformed_documents_as_array):\n",
    "    # construct a dataframe\n",
    "    tf_idf_tuples = list(zip(vectorizer.get_feature_names_out(), doc))\n",
    "    one_doc_as_df = pd.DataFrame.from_records(tf_idf_tuples, columns=['term', 'score']).sort_values(by='score', ascending=False).reset_index(drop=True)\n",
    "    \n",
    "    break"
   ]
  },
  {
   "cell_type": "code",
   "execution_count": 9,
   "id": "ee81ffda",
   "metadata": {},
   "outputs": [
    {
     "name": "stdout",
     "output_type": "stream",
     "text": [
      "2617401\n"
     ]
    }
   ],
   "source": [
    "# Export\n",
    "\n",
    "with open(\"corpus4.txt\", \"w\") as c:\n",
    "    for texte, auteur, sujet in zip(df[\"texte\"], df[\"auteur\"], df[\"sujet\"]):\n",
    "        c.write(f\"**** *auteur_{auteur} *sujet_{sujet}\\n {texte}\\n\\n\")\n",
    "\n",
    "with open(\"corpus.txt\", \"r\") as c:\n",
    "    file = c.read()\n",
    "    print(len(file))"
   ]
  }
 ],
 "metadata": {
  "kernelspec": {
   "display_name": "Python 3",
   "language": "python",
   "name": "python3"
  },
  "language_info": {
   "codemirror_mode": {
    "name": "ipython",
    "version": 3
   },
   "file_extension": ".py",
   "mimetype": "text/x-python",
   "name": "python",
   "nbconvert_exporter": "python",
   "pygments_lexer": "ipython3",
   "version": "3.9.10"
  }
 },
 "nbformat": 4,
 "nbformat_minor": 5
}
