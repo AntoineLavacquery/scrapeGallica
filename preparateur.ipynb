{
 "cells": [
  {
   "cell_type": "code",
   "execution_count": null,
   "id": "d8999f57",
   "metadata": {},
   "outputs": [],
   "source": [
    "from sklearn.feature_extraction.text import TfidfVectorizer\n",
    "import pandas as pd\n",
    "import re\n",
    "\n",
    "df = pd.read_csv(\"data/test.csv\")"
   ]
  },
  {
   "cell_type": "code",
   "execution_count": null,
   "id": "4d6015d9",
   "metadata": {},
   "outputs": [],
   "source": [
    "def suppr_espace(text):\n",
    "        # \\s = any whitespace | + = one or more\n",
    "        regex = re.compile(r\"\\s+\")\n",
    "        text = re.sub(regex, \"\", str(text))\n",
    "        return text\n",
    "\n",
    "\n",
    "def recup_nom_auteur(text):\n",
    "    try:\n",
    "        regex = re.compile(r\",\")\n",
    "        index_auteur = re.search(regex, text)\n",
    "        return text[:index_auteur.end()-1]\n",
    "\n",
    "    except AttributeError:\n",
    "        return text\n",
    "\n",
    "\n",
    "def efface_entete(text):\n",
    "    try:\n",
    "        regex = re.compile(r\"Le taux de reconnaissance estimé pour ce document est de [0-9]{2,}%.\")\n",
    "        fin_entete = re.search(regex, str(text)).end()\n",
    "\n",
    "    except AttributeError:\n",
    "        return text\n",
    "    \n",
    "    regex = re.compile(r\"En savoir plus sur l\\'OCR\")\n",
    "    text = re.sub(regex, \"\", text)\n",
    "    return text[fin_entete:]\n",
    "\n",
    "\n",
    "def retire_saut_ligne(text):\n",
    "    regex = re.compile(r\"\\n\")\n",
    "    text = re.sub(regex, \" \", str(text))\n",
    "    return text"
   ]
  },
  {
   "cell_type": "code",
   "execution_count": null,
   "id": "012029f9",
   "metadata": {},
   "outputs": [],
   "source": [
    "# Application des fonctions\n",
    "df[\"texte\"] = df[\"texte\"].apply(efface_entete).apply(retire_saut_ligne)\n",
    "df[\"auteur\"] = df[\"auteur\"].apply(recup_nom_auteur).apply(suppr_espace)\n",
    "df[\"sujet\"] = df[\"sujet\"].apply(suppr_espace)"
   ]
  },
  {
   "cell_type": "code",
   "execution_count": 6,
   "id": "a6cc9bcb",
   "metadata": {},
   "outputs": [],
   "source": [
    "# Analyse TF-IDF\n",
    "vectorizer = TfidfVectorizer(max_df=.65, min_df=1, stop_words=None, use_idf=True, norm=None)\n",
    "transformed_documents = vectorizer.fit_transform(df[\"texte\"].tolist())\n",
    "\n",
    "transformed_documents_as_array = transformed_documents.toarray()\n",
    "\n",
    "transformed_documents_as_array[0]\n",
    "\n",
    "for counter, doc in enumerate(transformed_documents_as_array):\n",
    "    # construct a dataframe\n",
    "    tf_idf_tuples = list(zip(vectorizer.get_feature_names_out(), doc))\n",
    "    one_doc_as_df = pd.DataFrame.from_records(tf_idf_tuples, columns=['term', 'score']).sort_values(by='score', ascending=False).reset_index(drop=True)\n",
    "    \n",
    "    break"
   ]
  },
  {
   "cell_type": "code",
   "execution_count": 7,
   "id": "ee81ffda",
   "metadata": {},
   "outputs": [
    {
     "name": "stdout",
     "output_type": "stream",
     "text": [
      "2617401\n"
     ]
    }
   ],
   "source": [
    "# Export\n",
    "with open(\"corpus4.txt\", \"w\") as c:\n",
    "    for texte, auteur, sujet in zip(df[\"texte\"], df[\"auteur\"], df[\"sujet\"]):\n",
    "        c.write(f\"**** *auteur_{auteur} *sujet_{sujet}\\n {texte}\\n\\n\")\n",
    "\n",
    "with open(\"corpus.txt\", \"r\") as c:\n",
    "    file = c.read()\n",
    "    print(len(file))"
   ]
  }
 ],
 "metadata": {
  "kernelspec": {
   "display_name": "Python 3",
   "language": "python",
   "name": "python3"
  },
  "language_info": {
   "codemirror_mode": {
    "name": "ipython",
    "version": 3
   },
   "file_extension": ".py",
   "mimetype": "text/x-python",
   "name": "python",
   "nbconvert_exporter": "python",
   "pygments_lexer": "ipython3",
   "version": "3.9.10"
  }
 },
 "nbformat": 4,
 "nbformat_minor": 5
}
